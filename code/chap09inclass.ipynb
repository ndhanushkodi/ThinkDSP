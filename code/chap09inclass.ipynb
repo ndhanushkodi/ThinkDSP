{
 "metadata": {
  "name": "",
  "signature": "sha256:36a2d664f78d94cfea7953a6930cfc48c060a3a7115cea1976ece67b4d37b827"
 },
 "nbformat": 3,
 "nbformat_minor": 0,
 "worksheets": [
  {
   "cells": [
    {
     "cell_type": "code",
     "collapsed": false,
     "input": [
      "from __future__ import print_function, division\n",
      "\n",
      "import thinkdsp\n",
      "import thinkplot\n",
      "import thinkstats2\n",
      "import math\n",
      "import numpy\n",
      "import pandas\n",
      "import scipy.signal\n",
      "\n",
      "PI2 = 2 * math.pi\n",
      "i = complex(0,1)\n",
      "\n",
      "%precision 3\n",
      "%matplotlib inline"
     ],
     "language": "python",
     "metadata": {},
     "outputs": [],
     "prompt_number": 8
    },
    {
     "cell_type": "code",
     "collapsed": false,
     "input": [
      "signal = thinkdsp.ComplexSinusoid(freq=100, amp=0.6, offset=0)\n",
      "wave = signal.make_wave(duration=1, framerate=11025)"
     ],
     "language": "python",
     "metadata": {},
     "outputs": [],
     "prompt_number": 9
    },
    {
     "cell_type": "code",
     "collapsed": false,
     "input": [
      "spectrum = wave.make_spectrum()\n",
      "factors = PI2*i*spectrum.fs\n",
      "spectrum.hs *= factors\n",
      "diff = spectrum.make_wave()"
     ],
     "language": "python",
     "metadata": {},
     "outputs": [],
     "prompt_number": 10
    },
    {
     "cell_type": "code",
     "collapsed": false,
     "input": [
      "diff.plot()"
     ],
     "language": "python",
     "metadata": {},
     "outputs": [
      {
       "metadata": {},
       "output_type": "display_data",
       "png": "[encoded data removed]",
       "text": [
        "<matplotlib.figure.Figure at 0x7fbaa13bf150>"
       ]
      }
     ],
     "prompt_number": 13
    },
    {
     "cell_type": "code",
     "collapsed": false,
     "input": [],
     "language": "python",
     "metadata": {},
     "outputs": []
    }
   ],
   "metadata": {}
  }
 ]
}