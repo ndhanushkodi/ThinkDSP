{
 "metadata": {
  "name": "",
  "signature": "sha256:28405e4e7278d6ba34ba6557813eeede95cbefd9a5a084caa0505fdaccae8df1"
 },
 "nbformat": 3,
 "nbformat_minor": 0,
 "worksheets": [
  {
   "cells": [
    {
     "cell_type": "code",
     "collapsed": false,
     "input": [
      "import thinkdsp\n",
      "import thinkplot\n",
      "import thinkstats2\n",
      "import numpy\n",
      "from __future__ import print_function, division"
     ],
     "language": "python",
     "metadata": {},
     "outputs": [],
     "prompt_number": 14
    },
    {
     "cell_type": "markdown",
     "metadata": {},
     "source": [
      "Start with UG noise."
     ]
    },
    {
     "cell_type": "code",
     "collapsed": false,
     "input": [
      "signal = thinkdsp.UncorrelatedGaussianNoise()\n",
      "wave = signal.make_wave(duration=4, framerate=32768)\n",
      "wave.plot()"
     ],
     "language": "python",
     "metadata": {},
     "outputs": [
      {
       "metadata": {},
       "output_type": "display_data",
       "png": "[encoded data removed]",
       "text": [
        "<matplotlib.figure.Figure at 0x7f67edf88510>"
       ]
      }
     ],
     "prompt_number": 15
    },
    {
     "cell_type": "markdown",
     "metadata": {},
     "source": [
      "The spectrum of UG noise is pretty flat."
     ]
    },
    {
     "cell_type": "code",
     "collapsed": false,
     "input": [
      "spectrum = wave.make_spectrum()\n",
      "spectrum = spectrum.pink_filter()\n",
      "spectrum.plot()"
     ],
     "language": "python",
     "metadata": {},
     "outputs": [
      {
       "ename": "AttributeError",
       "evalue": "'NoneType' object has no attribute 'plot'",
       "output_type": "pyerr",
       "traceback": [
        "\u001b[1;31m---------------------------------------------------------------------------\u001b[0m\n\u001b[1;31mAttributeError\u001b[0m                            Traceback (most recent call last)",
        "\u001b[1;32m<ipython-input-22-543fe0ad9000>\u001b[0m in \u001b[0;36m<module>\u001b[1;34m()\u001b[0m\n\u001b[0;32m      1\u001b[0m \u001b[0mspectrum\u001b[0m \u001b[1;33m=\u001b[0m \u001b[0mwave\u001b[0m\u001b[1;33m.\u001b[0m\u001b[0mmake_spectrum\u001b[0m\u001b[1;33m(\u001b[0m\u001b[1;33m)\u001b[0m\u001b[1;33m\u001b[0m\u001b[0m\n\u001b[0;32m      2\u001b[0m \u001b[0mspectrum\u001b[0m \u001b[1;33m=\u001b[0m \u001b[0mspectrum\u001b[0m\u001b[1;33m.\u001b[0m\u001b[0mpink_filter\u001b[0m\u001b[1;33m(\u001b[0m\u001b[1;33m)\u001b[0m\u001b[1;33m\u001b[0m\u001b[0m\n\u001b[1;32m----> 3\u001b[1;33m \u001b[0mspectrum\u001b[0m\u001b[1;33m.\u001b[0m\u001b[0mplot\u001b[0m\u001b[1;33m(\u001b[0m\u001b[1;33m)\u001b[0m\u001b[1;33m\u001b[0m\u001b[0m\n\u001b[0m",
        "\u001b[1;31mAttributeError\u001b[0m: 'NoneType' object has no attribute 'plot'"
       ]
      }
     ],
     "prompt_number": 22
    },
    {
     "cell_type": "markdown",
     "metadata": {},
     "source": [
      "Let's look at the distribution of the real and imaginary parts:"
     ]
    },
    {
     "cell_type": "code",
     "collapsed": false,
     "input": [
      "xs = numpy.real(spectrum.hs)\n",
      "ys = numpy.imag(spectrum.hs)\n",
      "xs.mean(), xs.std()"
     ],
     "language": "python",
     "metadata": {},
     "outputs": []
    },
    {
     "cell_type": "markdown",
     "metadata": {},
     "source": [
      "The CDFs sure look Gaussian."
     ]
    },
    {
     "cell_type": "code",
     "collapsed": false,
     "input": [
      "cdf_x = thinkstats2.Cdf(xs)\n",
      "cdf_y = thinkstats2.Cdf(ys)\n",
      "thinkplot.Cdfs([cdf_x, cdf_y])"
     ],
     "language": "python",
     "metadata": {},
     "outputs": []
    },
    {
     "cell_type": "markdown",
     "metadata": {},
     "source": [
      "Which implies that the distribution of amplitude is chi and the distribution of power is chi-squared."
     ]
    },
    {
     "cell_type": "code",
     "collapsed": false,
     "input": [
      "cdf_power = thinkstats2.Cdf(spectrum.amps**2)\n",
      "thinkplot.Cdf(cdf_power)"
     ],
     "language": "python",
     "metadata": {},
     "outputs": []
    },
    {
     "cell_type": "markdown",
     "metadata": {},
     "source": [
      "To estimate PSD, we can start with a spectrogram:"
     ]
    },
    {
     "cell_type": "code",
     "collapsed": false,
     "input": [
      "gram = wave.make_spectrogram(seg_length=512)"
     ],
     "language": "python",
     "metadata": {},
     "outputs": []
    },
    {
     "cell_type": "markdown",
     "metadata": {},
     "source": [
      "And loop through the spectrums that make up the spectrogram."
     ]
    },
    {
     "cell_type": "code",
     "collapsed": false,
     "input": [
      "times = gram.times()\n",
      "\n",
      "for i, time in enumerate(times):\n",
      "    spectrum = gram.spec_map[time]\n",
      "    if i == 0:\n",
      "        total = spectrum.power\n",
      "    else:\n",
      "        total += spectrum.power\n",
      "\n",
      "total /= len(times)\n",
      "thinkplot.plot(gram.frequencies(), total)\n",
      "thinkplot.config(xlabel='frequency Hz', ylabel='PSD')"
     ],
     "language": "python",
     "metadata": {},
     "outputs": []
    },
    {
     "cell_type": "markdown",
     "metadata": {},
     "source": [
      "So UG noise has equal power at all frequencies."
     ]
    },
    {
     "cell_type": "code",
     "collapsed": false,
     "input": [],
     "language": "python",
     "metadata": {},
     "outputs": []
    }
   ],
   "metadata": {}
  }
 ]
}